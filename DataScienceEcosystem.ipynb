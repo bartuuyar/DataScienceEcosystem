{
 "cells": [
  {
   "cell_type": "markdown",
   "id": "fb578b04-5259-4cb7-b66a-036a504e9c97",
   "metadata": {
    "tags": []
   },
   "source": [
    "# Data Science Tools and Ecosystem"
   ]
  },
  {
   "cell_type": "markdown",
   "id": "676a645d-6c41-45e7-962f-8326177df571",
   "metadata": {},
   "source": [
    "In this notebook, Data Science Tools and Ecosystem are summarized"
   ]
  },
  {
   "cell_type": "markdown",
   "id": "e960f023-ab08-450e-99bb-09979989b779",
   "metadata": {},
   "source": [
    "Some of the popular languages that Data Scientists use are:\n",
    "1. Python\n",
    "2. R\n",
    "3. SQL"
   ]
  },
  {
   "cell_type": "markdown",
   "id": "b21b4fa0-7aa8-48e6-bb70-3df4c70cd88a",
   "metadata": {},
   "source": [
    "Some of the commonly used libraries used by Data Scientists include:\n",
    "1. Pandas\n",
    "2. Matplotlib\n",
    "3. Numpy"
   ]
  },
  {
   "cell_type": "markdown",
   "id": "9e995517-240e-4f0c-a508-82f8d5e8dc41",
   "metadata": {},
   "source": [
    "| Data Science Tools | \n",
    "| --- |\n",
    "| Jupyter Notebook |\n",
    "| R Studio |\n",
    "| apache spark |"
   ]
  },
  {
   "cell_type": "markdown",
   "id": "e2b8c590-2546-4713-9d4d-bfe185010b3b",
   "metadata": {},
   "source": [
    "### Below are a few examples of evaluating arithmetic expressions in Python\n",
    "    A=2+3\n",
    "    B=2*6\n",
    "    C=8%7"
   ]
  },
  {
   "cell_type": "code",
   "execution_count": 3,
   "id": "9d1e66ed-cf41-40c4-807f-3f5ff6c60564",
   "metadata": {
    "tags": []
   },
   "outputs": [
    {
     "data": {
      "text/plain": [
       "17"
      ]
     },
     "execution_count": 3,
     "metadata": {},
     "output_type": "execute_result"
    }
   ],
   "source": [
    "#This a simple arithmetic expression to mutiply then add integers\n",
    "(3*4)+5"
   ]
  },
  {
   "cell_type": "code",
   "execution_count": 4,
   "id": "3087f922-46ca-400d-af42-17c5c358564e",
   "metadata": {
    "tags": []
   },
   "outputs": [
    {
     "data": {
      "text/plain": [
       "3.3333333333333335"
      ]
     },
     "execution_count": 4,
     "metadata": {},
     "output_type": "execute_result"
    }
   ],
   "source": [
    "#This will convert 200 minutes to hours by diving by 60.\n",
    "200/60"
   ]
  },
  {
   "cell_type": "markdown",
   "id": "77086e90-8ba5-49e8-9cd2-546aea157de7",
   "metadata": {},
   "source": [
    "Objectives:\n",
    "* List popular languages for Data Science.\n",
    "* List commonly used libraries for Data Science.\n",
    "* Evaluate a simple arithmetic expression in Python"
   ]
  },
  {
   "cell_type": "markdown",
   "id": "925e2d2f-f0ae-458f-8599-04d80568ceb8",
   "metadata": {
    "tags": []
   },
   "source": [
    "## Author\n",
    "Bartu Uyar"
   ]
  },
  {
   "cell_type": "code",
   "execution_count": null,
   "id": "c9cee851-1de9-45af-8351-f8141b268449",
   "metadata": {},
   "outputs": [],
   "source": []
  }
 ],
 "metadata": {
  "kernelspec": {
   "display_name": "Python 3 (ipykernel)",
   "language": "python",
   "name": "python3"
  },
  "language_info": {
   "codemirror_mode": {
    "name": "ipython",
    "version": 3
   },
   "file_extension": ".py",
   "mimetype": "text/x-python",
   "name": "python",
   "nbconvert_exporter": "python",
   "pygments_lexer": "ipython3",
   "version": "3.11.5"
  }
 },
 "nbformat": 4,
 "nbformat_minor": 5
}
